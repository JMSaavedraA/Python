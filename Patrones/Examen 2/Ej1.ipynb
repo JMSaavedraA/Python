{
 "cells": [
  {
   "cell_type": "markdown",
   "id": "1bca09b1",
   "metadata": {},
   "source": [
    "<div style=\"display: flex; align-items: center;\">\n",
    "    <div style=\"display: flex; flex-direction: column; align-items: center;\">\n",
    "        <h1 style=\"text-align: right;\">Centro de Investigación en Matemáticas, A.C.</h1>\n",
    "        <h2 style=\"text-align: right;\">Reconocimiento de Patrones</h2>\n",
    "        <h2 style=\"text-align: right;\">Jose Miguel Saavedra Aguilar</h2>\n",
    "        <h3 style=\"text-align: right;\">Examen 2. Ejercicio 1</h3>\n",
    "    </div>\n",
    "    <img src=\"Figures\\logoCIMAT11.png\" alt=\"CIMAT Logo\" width=\"200\" style=\"float: left;\">\n",
    "</div>\n",
    "\n",
    "\n",
    "---"
   ]
  },
  {
   "cell_type": "code",
   "execution_count": 1,
   "id": "faf1fbf9",
   "metadata": {},
   "outputs": [],
   "source": [
    "from PIL import Image\n",
    "import numpy as np"
   ]
  },
  {
   "cell_type": "markdown",
   "id": "154be9ca",
   "metadata": {},
   "source": [
    "Sea $\\theta^*$ el minimizador de la función\n",
    "$$\n",
    "f(\\theta) = \\sum_i |y_i - \\theta|,\n",
    "$$\n",
    "donde $y_i$ son observaciones de una v.a. $Y$.\n",
    "\n",
    "Sea $\\theta^n$ el $n$-ésimo estimador de $\\theta^*$, entonces:\n",
    "$$\n",
    "h_i(\\theta \\mid \\theta^n) = 0.5 \\frac{(y_i-\\theta)^2}{|y_i-\\theta^n|} + 0.5 |y_i - \\theta^n|\n",
    "$$\n",
    "mayoriza $|y_i - \\theta|$ para todo $\\theta$.\n",
    "\n",
    "**Demostración:**\n",
    "Supongamos que $y_i \\neq \\theta^n$, entonces\n",
    "$$\n",
    "\\frac{1}{2|y_i - \\theta^n|} \\left( |y_i - \\theta| - |y_i - \\theta^n| \\right)^2 \\geq 0,\\\\\n",
    "\\frac{1}{2|y_i - \\theta^n|} \\left( |y_i - \\theta|^2 - 2 |y_i - \\theta||y_i - \\theta^n| + |y_i - \\theta^n|^2 \\right) \\geq 0\\\\\n",
    "\\frac{1}{2} \\left( \\frac{|y_i - \\theta|^2}{|y_i - \\theta^n|} - 2|y_i - \\theta| + |y_i - \\theta^n| \\right) \\geq 0\\\\\n",
    "0.5 \\frac{|y_i - \\theta|^2}{|y_i - \\theta^n|} - |y_i - \\theta| + 0.5 |y_i - \\theta^n| \\geq 0\\\\\n",
    "0.5 \\frac{(y_i - \\theta)^2}{|y_i - \\theta^n|} + 0.5 |y_i - \\theta^n| \\geq |y_i - \\theta|\n",
    "$$\n",
    "Por lo tanto, $h_i(\\theta \\mid \\theta^n) \\geq |y_i - \\theta|$.\n",
    "\n",
    "Además, evaluando en $\\theta = \\theta^n$ tenemos que\n",
    "$$\n",
    "h_i(\\theta^n \\mid \\theta^n) = 0.5 \\frac{(y_i - \\theta^n)^2}{|y_i - \\theta^n|} + 0.5 |y_i - \\theta^n| = |y_i - \\theta^n|,\n",
    "$$\n",
    "de forma que $h_i(\\theta \\mid \\theta^n)$ mayoriza $|y_i - \\theta^n|$."
   ]
  },
  {
   "cell_type": "markdown",
   "id": "685b518f",
   "metadata": {},
   "source": [
    "Ahora, el algoritmo MM para encontrar la mediana de un conjunto de datos $X$, también conocido como algoritmo de Weiszfeld es el siguiente:"
   ]
  },
  {
   "cell_type": "code",
   "execution_count": null,
   "id": "e3c509e3",
   "metadata": {},
   "outputs": [],
   "source": [
    "def mm_median(X, m=None, max_iters=20, tol=1e-4, random_state=None):\n",
    "    \"\"\"\n",
    "    MM method for computing the median of a dataset X.\n",
    "    Parameters:\n",
    "    - X: array-like, shape (n_samples, n_features)\n",
    "        The input data.\n",
    "    - m: array-like, shape (n_features,), optional\n",
    "        Initial guess for the median. If None, it will be initialized to the mean of X.\n",
    "    - max_iters: int, optional\n",
    "        Maximum number of iterations for convergence.\n",
    "    - tol: float, optional\n",
    "        Tolerance for convergence.\n",
    "    - random_state: int, optional\n",
    "        Random seed for reproducibility.\n",
    "    \"\"\"\n",
    "    X = np.asarray(X)\n",
    "    if random_state is not None:\n",
    "        np.random.seed(random_state)\n",
    "    n_samples, n_features = X.shape\n",
    "    # Initialize median\n",
    "    if m is None:\n",
    "        m = np.mean(X, axis=0)\n",
    "    elif len(m) != n_features:\n",
    "        raise ValueError(f\"Expected median with {n_features} features, but got {len(m)}\")\n",
    "    else:\n",
    "        m = np.asarray(m)\n",
    "    u = np.ones(n_samples)\n",
    "    for _ in range(max_iters):\n",
    "        # Compute weights inversely proportional to distance from current median\n",
    "        w = np.linalg.norm(X - m, axis=1)\n",
    "        w = 1 / (w + tol)\n",
    "        # Update median as weighted mean\n",
    "        new_m = np.dot(w, X) / np.dot(w, u)\n",
    "        if np.linalg.norm(new_m - m) < tol:\n",
    "            break\n",
    "        m = new_m\n",
    "    return m"
   ]
  },
  {
   "cell_type": "markdown",
   "id": "f0f4640b",
   "metadata": {},
   "source": [
    "A continuación, el algoritmo de $k$-medianas que utiliza las medianas calculadas por el algoritmo MM anterior:"
   ]
  },
  {
   "cell_type": "code",
   "execution_count": null,
   "id": "af6c12db",
   "metadata": {},
   "outputs": [],
   "source": [
    "def kmedians(X, k, max_iters = 30, tol=1e-4, random_state=None, medians=None):\n",
    "    \"\"\"\n",
    "    K-medians clustering algorithm using the MM method for computing medians.\n",
    "    Parameters:\n",
    "    - X: array-like, shape (n_samples, n_features)\n",
    "        The input data.\n",
    "    - k: int\n",
    "        The number of clusters.\n",
    "    - max_iters: int, optional\n",
    "        Maximum number of iterations for convergence.\n",
    "    - tol: float, optional\n",
    "        Tolerance for convergence.\n",
    "    - random_state: int, optional\n",
    "        Random seed for reproducibility.\n",
    "    - medians: array-like, shape (k, n_features), optional\n",
    "        Initial medians for the clusters. If None, they will be randomly initialized.\n",
    "    \"\"\"\n",
    "    X = np.asarray(X)\n",
    "    if random_state is not None:\n",
    "        np.random.seed(random_state)\n",
    "    n_samples, n_features = X.shape\n",
    "    # Initialize medians\n",
    "    if medians is None:\n",
    "        indices = np.random.choice(n_samples, size=k, replace=False)\n",
    "        medians = X[indices]\n",
    "    elif len(medians) != k:\n",
    "        raise ValueError(f\"Expected {k} medians, but got {len(medians)}\")\n",
    "    elif np.asarray(medians).shape[1] != n_features:\n",
    "        raise ValueError(f\"Expected medians with {n_features} features, but got {np.asarray(medians).shape[1]}\")\n",
    "    else:\n",
    "        medians = np.array(medians, copy=True)\n",
    "    for _ in range(max_iters):\n",
    "        # Compute distances from each point to each centroid\n",
    "        distances = np.linalg.norm(X[:, np.newaxis] - medians, axis=2)\n",
    "        # Assign each point to the nearest centroid\n",
    "        labels = np.argmin(distances, axis=1)\n",
    "        new_medians = medians.copy()\n",
    "        for j in range(k):\n",
    "            mask = (labels == j)\n",
    "            if np.any(mask):\n",
    "                # Update centroid as the weighted median of its cluster\n",
    "                new_medians[j] = mm_median(X[mask], m=medians[j])\n",
    "        # Check for convergence\n",
    "        if np.linalg.norm(new_medians - medians) < tol:\n",
    "            break\n",
    "        medians = new_medians.copy()\n",
    "    return medians, labels\n"
   ]
  },
  {
   "cell_type": "markdown",
   "id": "9a0dde92",
   "metadata": {},
   "source": [
    "Definimos funciones auxiliares para convertir la imagen a datos, y la función inversa:"
   ]
  },
  {
   "cell_type": "code",
   "execution_count": 3,
   "id": "7d81838b",
   "metadata": {},
   "outputs": [],
   "source": [
    "def image_to_features(image_path):\n",
    "    # Load an image and convert it to RGB format\n",
    "    img = Image.open(image_path).convert('RGB')\n",
    "    img_np = np.array(img)\n",
    "    n, m, c = img_np.shape\n",
    "    # Reshape image array to a 2D array where each row is a pixel's RGB values\n",
    "    features = img_np.reshape(-1, 3)\n",
    "    # Return the features and the original image shape (rows, columns)\n",
    "    return features, (n, m)\n",
    "\n",
    "def features_to_image(features, shape):\n",
    "    # Reshape the 2D feature array back to the original image shape\n",
    "    n, m = shape\n",
    "    return features.reshape(n, m, 3).astype(np.uint8)"
   ]
  },
  {
   "cell_type": "markdown",
   "id": "aaed335e",
   "metadata": {},
   "source": [
    "Para los 4 valores de $k$, (2, 3, 5 y 10), se ejecuta el algoritmo de $k$-medianas para colorear la imagen:\n"
   ]
  },
  {
   "cell_type": "code",
   "execution_count": null,
   "id": "aac70997",
   "metadata": {},
   "outputs": [],
   "source": [
    "# Quantize image for different numbers of clusters using k-medians\n",
    "K = [2, 3, 5, 10]\n",
    "\n",
    "features, shape = image_to_features(\"Figures/foto.jpg\")  # Convert image to feature array and get shape\n",
    "\n",
    "for k in K:\n",
    "    medians, labels = kmedians(features, k=k, random_state=2025)  # Cluster pixels using k-medians\n",
    "    output = np.zeros_like(features)  # Prepare array for quantized image\n",
    "    for i in range(shape[0] * shape[1]):\n",
    "        output[i] = medians[labels[i]]  # Assign each pixel the median color of its cluster\n",
    "    reconstructed_img = features_to_image(output, shape)  # Convert features back to image format\n",
    "    Image.fromarray(reconstructed_img).save(f\"kmedians_{k}.png\")  # Save quantized image"
   ]
  },
  {
   "cell_type": "markdown",
   "id": "441c5420",
   "metadata": {},
   "source": [
    "Las imágenes resultantes se encuentran guardadas con el nombre 'kmedians_x.png', donde x es el número de medianas utilizadas."
   ]
  }
 ],
 "metadata": {
  "kernelspec": {
   "display_name": "Python 3",
   "language": "python",
   "name": "python3"
  },
  "language_info": {
   "codemirror_mode": {
    "name": "ipython",
    "version": 3
   },
   "file_extension": ".py",
   "mimetype": "text/x-python",
   "name": "python",
   "nbconvert_exporter": "python",
   "pygments_lexer": "ipython3",
   "version": "3.13.3"
  }
 },
 "nbformat": 4,
 "nbformat_minor": 5
}
