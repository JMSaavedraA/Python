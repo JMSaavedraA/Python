{
  "cells": [
    {
      "cell_type": "markdown",
      "metadata": {
        "id": "c2wKB0Ot1jHZ"
      },
      "source": [
        "# **R Regresión logística**"
      ]
    },
    {
      "cell_type": "markdown",
      "metadata": {
        "id": "EjDijog9paNu"
      },
      "source": [
        "# **Resumen**"
      ]
    },
    {
      "cell_type": "code",
      "execution_count": null,
      "metadata": {
        "vscode": {
          "languageId": "r"
        }
      },
      "outputs": [],
      "source": [
        "library(ggplot2)"
      ]
    },
    {
      "cell_type": "code",
      "execution_count": null,
      "metadata": {
        "colab": {
          "base_uri": "https://localhost:8080/",
          "height": 437
        },
        "id": "PiXxlNdKpddZ",
        "outputId": "12779534-a057-47d1-fc34-0960a3ff9b3d",
        "vscode": {
          "languageId": "r"
        }
      },
      "outputs": [
        {
          "data": {
            "image/png": "[encoded data removed]",
            "text/plain": [
              "plot without title"
            ]
          },
          "metadata": {
            "image/png": {
              "height": 420,
              "width": 420
            }
          },
          "output_type": "display_data"
        }
      ],
      "source": [
        "x <- -30:29 / 60\n",
        "\n",
        "y <- numeric(length(x))\n",
        "\n",
        "logit <- function(x) {\n",
        "  return(1 / (1 + exp(-x)))\n",
        "}\n",
        "\n",
        "for(i in seq_along(x)) {\n",
        "  y[i] <- rbinom(n = 1, size = 1, prob = logit(x[i]))\n",
        "}\n",
        "\n",
        "# Combine x and y into a data frame for ggplot\n",
        "data_frame <- data.frame(x=x, y=y)\n",
        "\n",
        "# Create the plot using ggplot2.\n",
        "ggplot(data=data_frame) +\n",
        "  geom_point(aes(x=x, y=y)) +\n",
        "  theme_minimal() + \n",
        "  labs(title=\"Logit Transformation with Binomial Distribution\", x=\"X Axis\", y=\"Y Axis\")"
      ]
    },
    {
      "cell_type": "code",
      "execution_count": 2,
      "metadata": {
        "colab": {
          "base_uri": "https://localhost:8080/",
          "height": 437
        },
        "id": "UCK75L4rq6uE",
        "outputId": "c6f7899e-4025-4724-b845-7162ce180425",
        "vscode": {
          "languageId": "r"
        }
      },
      "outputs": [
        {
          "data": {
            "image/png": "[encoded data removed]",
            "text/plain": [
              "plot without title"
            ]
          },
          "metadata": {
            "image/png": {
              "height": 420,
              "width": 420
            }
          },
          "output_type": "display_data"
        }
      ],
      "source": [
        "for(i in seq_along(x)) {\n",
        "  y[i] <- rbinom(n = 1, size = 1, prob = logit(0.1 * x[i]))\n",
        "}\n",
        "\n",
        "# Create a data frame from the vectors\n",
        "data_frame <- data.frame(x=x, y=y)\n",
        "\n",
        "# Plotting with ggplot2 \n",
        "ggplot(data=data_frame) +\n",
        "  geom_point(aes(x=x, y=y)) + # Using aes for mapping aesthetics.\n",
        "  theme_minimal() + # A minimalistic look to our plot. Optional styling can be applied here as per need\n",
        "  labs(title=\"Logit Transformation and Binomial Distribution\", x=\"X Axis\", y=\"Y Axis\") "
      ]
    },
    {
      "cell_type": "code",
      "execution_count": 3,
      "metadata": {
        "colab": {
          "base_uri": "https://localhost:8080/",
          "height": 335
        },
        "id": "5KZ4jjuVpwHX",
        "outputId": "bb54a9a4-69e2-4e4d-aa8a-603d8bc095ac",
        "vscode": {
          "languageId": "r"
        }
      },
      "outputs": [
        {
          "data": {
            "text/plain": [
              "\n",
              "Call:\n",
              "glm(formula = y ~ x, family = binomial(link = logit))\n",
              "\n",
              "Coefficients:\n",
              "            Estimate Std. Error z value Pr(>|z|)  \n",
              "(Intercept)  -0.1284     0.2714  -0.473   0.6361  \n",
              "x             2.2149     0.9785   2.264   0.0236 *\n",
              "---\n",
              "Signif. codes:  0 '***' 0.001 '**' 0.01 '*' 0.05 '.' 0.1 ' ' 1\n",
              "\n",
              "(Dispersion parameter for binomial family taken to be 1)\n",
              "\n",
              "    Null deviance: 82.911  on 59  degrees of freedom\n",
              "Residual deviance: 77.320  on 58  degrees of freedom\n",
              "AIC: 81.32\n",
              "\n",
              "Number of Fisher Scoring iterations: 4\n"
            ]
          },
          "metadata": {},
          "output_type": "display_data"
        }
      ],
      "source": [
        "fit <- glm(y ~ x, family=binomial(link=logit))\n",
        "summary(fit)"
      ]
    },
    {
      "cell_type": "code",
      "execution_count": null,
      "metadata": {
        "colab": {
          "base_uri": "https://localhost:8080/",
          "height": 472
        },
        "id": "zwaUsOoyp16B",
        "outputId": "153f5bd3-22a1-4773-d3d4-0bb817989dbf",
        "vscode": {
          "languageId": "r"
        }
      },
      "outputs": [
        {
          "name": "stderr",
          "output_type": "stream",
          "text": [
            "\u001b[1m\u001b[22m`geom_smooth()` using formula = 'y ~ x'\n"
          ]
        },
        {
          "data": {
            "image/png": "[encoded data removed]",
            "text/plain": [
              "plot without title"
            ]
          },
          "metadata": {
            "image/png": {
              "height": 420,
              "width": 420
            }
          },
          "output_type": "display_data"
        }
      ],
      "source": [
        "df<-data.frame(x,y)\n",
        "ggplot(df, aes(x=x, y=y)) + geom_point() +\n",
        "  stat_smooth(method=\"glm\", method.args = list(family=binomial), se=T)"
      ]
    },
    {
      "cell_type": "code",
      "execution_count": 5,
      "metadata": {
        "colab": {
          "base_uri": "https://localhost:8080/",
          "height": 437
        },
        "id": "dmW8MMRcsc6e",
        "outputId": "5d6e0d9e-ecd0-40de-8c51-8972584a4e9e",
        "vscode": {
          "languageId": "r"
        }
      },
      "outputs": [
        {
          "data": {
            "image/png": "[encoded data removed]",
            "text/plain": [
              "plot without title"
            ]
          },
          "metadata": {
            "image/png": {
              "height": 420,
              "width": 420
            }
          },
          "output_type": "display_data"
        }
      ],
      "source": [
        "plot(x, fitted(fit),xlim=c(-1,1))\n",
        "\n",
        "rug(x[y==0],col=\"red\");rug(x[y==1],col=\"green\",side=3)"
      ]
    },
    {
      "cell_type": "markdown",
      "metadata": {
        "id": "X0Gmfd_orPxr"
      },
      "source": [
        "# **Ejemplos más complejos**"
      ]
    },
    {
      "cell_type": "markdown",
      "metadata": {
        "id": "M_sLD5siOV46"
      },
      "source": [
        "**Generar datos**"
      ]
    },
    {
      "cell_type": "code",
      "execution_count": 6,
      "metadata": {
        "id": "MEAi7N_uOQFz",
        "vscode": {
          "languageId": "r"
        }
      },
      "outputs": [],
      "source": [
        "x1<-(1:60)/60 -0.5; x2<-rnorm(60,0,1); x3<-rnorm(60,0,1);\n",
        "y<-rep(0,60);\n",
        "logit<-function(x){return(1/(1+exp(-x)))}\n",
        "\n",
        "for (i in 1:60)\n",
        "  y[i]<-rbinom(1,1,logit(10*x1[i]))\n"
      ]
    },
    {
      "cell_type": "code",
      "execution_count": 7,
      "metadata": {
        "id": "18iUXFk4FAfi",
        "vscode": {
          "languageId": "r"
        }
      },
      "outputs": [],
      "source": [
        "write.table(data.frame(x1=x1,x2=x2,x3=x3,y),file=\"datos\")"
      ]
    },
    {
      "cell_type": "markdown",
      "metadata": {
        "id": "Ye6wHs3jOZQu"
      },
      "source": [
        "**Ajustar unos modelos**"
      ]
    },
    {
      "cell_type": "code",
      "execution_count": 8,
      "metadata": {
        "colab": {
          "base_uri": "https://localhost:8080/",
          "height": 370
        },
        "id": "sI8Pg06kOgk9",
        "outputId": "29734472-4562-4bdb-d011-d8a8a135a83b",
        "vscode": {
          "languageId": "r"
        }
      },
      "outputs": [
        {
          "data": {
            "text/plain": [
              "\n",
              "Call:\n",
              "glm(formula = y ~ x1 + x2 + x3, family = binomial(link = logit))\n",
              "\n",
              "Coefficients:\n",
              "            Estimate Std. Error z value Pr(>|z|)    \n",
              "(Intercept)   0.7009     0.4725   1.484 0.137928    \n",
              "x1           11.4574     2.9959   3.824 0.000131 ***\n",
              "x2            1.0192     0.5088   2.003 0.045163 *  \n",
              "x3            0.4510     0.4499   1.002 0.316154    \n",
              "---\n",
              "Signif. codes:  0 '***' 0.001 '**' 0.01 '*' 0.05 '.' 0.1 ' ' 1\n",
              "\n",
              "(Dispersion parameter for binomial family taken to be 1)\n",
              "\n",
              "    Null deviance: 82.577  on 59  degrees of freedom\n",
              "Residual deviance: 36.039  on 56  degrees of freedom\n",
              "AIC: 44.039\n",
              "\n",
              "Number of Fisher Scoring iterations: 6\n"
            ]
          },
          "metadata": {},
          "output_type": "display_data"
        }
      ],
      "source": [
        "fit <- glm(y ~ x1+x2+x3, family=binomial(link=logit))\n",
        "summary(fit)\n"
      ]
    },
    {
      "cell_type": "code",
      "execution_count": 9,
      "metadata": {
        "colab": {
          "base_uri": "https://localhost:8080/",
          "height": 335
        },
        "id": "uUAlIXO9uyPt",
        "outputId": "e1a4de73-2655-47f1-b450-1ec16717e13d",
        "vscode": {
          "languageId": "r"
        }
      },
      "outputs": [
        {
          "data": {
            "text/plain": [
              "\n",
              "Call:\n",
              "glm(formula = y ~ x1, family = binomial(link = logit))\n",
              "\n",
              "Coefficients:\n",
              "            Estimate Std. Error z value Pr(>|z|)    \n",
              "(Intercept)   0.3808     0.3978   0.957    0.338    \n",
              "x1            8.8751     2.1386   4.150 3.32e-05 ***\n",
              "---\n",
              "Signif. codes:  0 '***' 0.001 '**' 0.01 '*' 0.05 '.' 0.1 ' ' 1\n",
              "\n",
              "(Dispersion parameter for binomial family taken to be 1)\n",
              "\n",
              "    Null deviance: 82.577  on 59  degrees of freedom\n",
              "Residual deviance: 42.291  on 58  degrees of freedom\n",
              "AIC: 46.291\n",
              "\n",
              "Number of Fisher Scoring iterations: 5\n"
            ]
          },
          "metadata": {},
          "output_type": "display_data"
        }
      ],
      "source": [
        "\n",
        "fit <- glm(y ~ x1, family=binomial(link=logit))\n",
        "summary(fit)"
      ]
    },
    {
      "cell_type": "code",
      "execution_count": 10,
      "metadata": {
        "id": "w8g4wss0O7K3",
        "vscode": {
          "languageId": "r"
        }
      },
      "outputs": [],
      "source": [
        "library(ggplot2)"
      ]
    },
    {
      "cell_type": "code",
      "execution_count": 11,
      "metadata": {
        "colab": {
          "base_uri": "https://localhost:8080/",
          "height": 472
        },
        "id": "VRdAuaGiOj36",
        "outputId": "c9a0b4c2-5ddf-4ff9-c681-70f17498b668",
        "vscode": {
          "languageId": "r"
        }
      },
      "outputs": [
        {
          "name": "stderr",
          "output_type": "stream",
          "text": [
            "\u001b[1m\u001b[22m`geom_smooth()` using formula = 'y ~ x'\n"
          ]
        },
        {
          "data": {
            "image/png": "[encoded data removed]",
            "text/plain": [
              "plot without title"
            ]
          },
          "metadata": {
            "image/png": {
              "height": 420,
              "width": 420
            }
          },
          "output_type": "display_data"
        }
      ],
      "source": [
        "df<-data.frame(x1,y)\n",
        "ggplot(df, aes(x=x1, y=y)) + geom_point() +\n",
        "  stat_smooth(method=\"glm\", method.args = list(family=binomial), se=T)\n"
      ]
    },
    {
      "cell_type": "markdown",
      "metadata": {
        "id": "oo4HWR-gOnxN"
      },
      "source": [
        "**Entender variabilidad de las estimaciones**"
      ]
    },
    {
      "cell_type": "code",
      "execution_count": 12,
      "metadata": {
        "colab": {
          "base_uri": "https://localhost:8080/",
          "height": 437
        },
        "id": "ZIRZBBcQOleS",
        "outputId": "791d8892-ce9e-4a20-81bc-7c75292dd470",
        "vscode": {
          "languageId": "r"
        }
      },
      "outputs": [
        {
          "name": "stderr",
          "output_type": "stream",
          "text": [
            "Warning message:\n",
            "\"glm.fit: fitted probabilities numerically 0 or 1 occurred\"\n"
          ]
        },
        {
          "data": {
            "image/png": "[encoded data removed]",
            "text/plain": [
              "plot without title"
            ]
          },
          "metadata": {
            "image/png": {
              "height": 420,
              "width": 420
            }
          },
          "output_type": "display_data"
        }
      ],
      "source": [
        "todos<-rep(NA,100)\n",
        "x1<-(1:60)/60 -0.5; x2<-rnorm(60,0,1); x3<-rnorm(60,0,1);\n",
        "for ( j in 1 :100)\n",
        "{\n",
        "\n",
        "y<-rep(0,60);\n",
        "logit<-function(x){return(1/(1+exp(-x)))}\n",
        "\n",
        "for (i in 1:60)\n",
        "  y[i]<-rbinom(1,1,logit(10*x1[i]))\n",
        "\n",
        "fit <- glm(y ~ x1+x2+x3, family=binomial(link=logit))\n",
        "\n",
        "todos[j]<- fit$coefficients[2]\n",
        "}\n",
        "\n",
        "\n",
        "boxplot(todos)\n"
      ]
    },
    {
      "cell_type": "code",
      "execution_count": 13,
      "metadata": {
        "colab": {
          "base_uri": "https://localhost:8080/",
          "height": 34
        },
        "id": "dkaZkK_M5hI5",
        "outputId": "0a120815-8f1d-4900-ec4b-2d9ec1678505",
        "vscode": {
          "languageId": "r"
        }
      },
      "outputs": [
        {
          "data": {
            "text/html": [
              "<style>\n",
              ".dl-inline {width: auto; margin:0; padding: 0}\n",
              ".dl-inline>dt, .dl-inline>dd {float: none; width: auto; display: inline-block}\n",
              ".dl-inline>dt::after {content: \":\\0020\"; padding-right: .5ex}\n",
              ".dl-inline>dt:not(:first-of-type) {padding-left: .5ex}\n",
              "</style><dl class=dl-inline><dt>(Intercept)</dt><dd>-0.313432896993352</dd><dt>x1</dt><dd>13.9328928318364</dd><dt>x2</dt><dd>0.094657934222336</dd><dt>x3</dt><dd>-0.533752035562865</dd></dl>\n"
            ],
            "text/latex": [
              "\\begin{description*}\n",
              "\\item[(Intercept)] -0.313432896993352\n",
              "\\item[x1] 13.9328928318364\n",
              "\\item[x2] 0.094657934222336\n",
              "\\item[x3] -0.533752035562865\n",
              "\\end{description*}\n"
            ],
            "text/markdown": [
              "(Intercept)\n",
              ":   -0.313432896993352x1\n",
              ":   13.9328928318364x2\n",
              ":   0.094657934222336x3\n",
              ":   -0.533752035562865\n",
              "\n"
            ],
            "text/plain": [
              "(Intercept)          x1          x2          x3 \n",
              "-0.31343290 13.93289283  0.09465793 -0.53375204 "
            ]
          },
          "metadata": {},
          "output_type": "display_data"
        }
      ],
      "source": [
        "fit$coefficients\n"
      ]
    },
    {
      "cell_type": "markdown",
      "metadata": {
        "id": "-YH599gPOv8O"
      },
      "source": [
        "Más modelos"
      ]
    },
    {
      "cell_type": "code",
      "execution_count": 14,
      "metadata": {
        "colab": {
          "base_uri": "https://localhost:8080/",
          "height": 263
        },
        "id": "0F_iMGB2Ot_x",
        "outputId": "65e68b42-2cbc-49f8-939d-4ea2391d77ee",
        "vscode": {
          "languageId": "r"
        }
      },
      "outputs": [
        {
          "name": "stderr",
          "output_type": "stream",
          "text": [
            "Warning message:\n",
            "\"glm.fit: fitted probabilities numerically 0 or 1 occurred\"\n"
          ]
        },
        {
          "data": {
            "text/plain": [
              "\n",
              "Call:\n",
              "glm(formula = y ~ x1 + x2 + x3 + x1 * x2 + x1 * x3 + x2 * x2 + \n",
              "    x1 * x2 * x3, family = binomial(link = logit))\n",
              "\n",
              "Coefficients:\n",
              "            Estimate Std. Error z value Pr(>|z|)\n",
              "(Intercept)  -0.3035     1.8125  -0.167    0.867\n",
              "x1           56.3428    39.0733   1.442    0.149\n",
              "x2           -0.5836     1.9307  -0.302    0.762\n",
              "x3            0.4556     3.3946   0.134    0.893\n",
              "x1:x2        30.5125    26.9220   1.133    0.257\n",
              "x1:x3         8.9744    15.8062   0.568    0.570\n",
              "x2:x3         2.6367     3.5808   0.736    0.462\n",
              "x1:x2:x3     34.9666    24.2157   1.444    0.149\n",
              "\n",
              "(Dispersion parameter for binomial family taken to be 1)\n",
              "\n",
              "    Null deviance: 83.111  on 59  degrees of freedom\n",
              "Residual deviance: 12.973  on 52  degrees of freedom\n",
              "AIC: 28.973\n",
              "\n",
              "Number of Fisher Scoring iterations: 11\n"
            ]
          },
          "metadata": {},
          "output_type": "display_data"
        }
      ],
      "source": [
        "fit <- glm(y ~ x1+x2+x3+x1*x2+x1*x3+x2*x2+x1*x2*x3, family=binomial(link=logit))\n",
        "\n",
        "\n",
        "\n",
        "\n",
        "summary(fit)"
      ]
    },
    {
      "cell_type": "markdown",
      "metadata": {
        "id": "LZdD4xpCOzc4"
      },
      "source": [
        "**Visualizar y analizar poder predictivo**"
      ]
    },
    {
      "cell_type": "markdown",
      "metadata": {
        "id": "oTBDKdX0M1UL"
      },
      "source": [
        "con fitted(...) se obtiene las estimaciones para $P(Y=1|X=x)$"
      ]
    },
    {
      "cell_type": "code",
      "execution_count": 15,
      "metadata": {
        "colab": {
          "base_uri": "https://localhost:8080/",
          "height": 88
        },
        "id": "5M7MRtXi288R",
        "outputId": "76e2390d-e788-4dd1-996b-585babc2a638",
        "vscode": {
          "languageId": "r"
        }
      },
      "outputs": [
        {
          "data": {
            "text/plain": [
              "       y\n",
              "         0  1\n",
              "  FALSE 29  1\n",
              "  TRUE   2 28"
            ]
          },
          "metadata": {},
          "output_type": "display_data"
        }
      ],
      "source": [
        "table(fitted(fit)>0.5,y)"
      ]
    },
    {
      "cell_type": "code",
      "execution_count": 16,
      "metadata": {
        "colab": {
          "base_uri": "https://localhost:8080/",
          "height": 437
        },
        "id": "NOYWAYVrO10q",
        "outputId": "70566266-1019-4442-840e-50fe1654b816",
        "vscode": {
          "languageId": "r"
        }
      },
      "outputs": [
        {
          "data": {
            "image/png": "[encoded data removed]",
            "text/plain": [
              "plot without title"
            ]
          },
          "metadata": {
            "image/png": {
              "height": 420,
              "width": 420
            }
          },
          "output_type": "display_data"
        }
      ],
      "source": [
        "plot(x1, fitted(fit),type=\"l\",xlim=c(-1,1))\n",
        "\n",
        "rug(x1[y==0],col=\"red\");rug(x1[y==1],col=\"green\",side=3)"
      ]
    },
    {
      "cell_type": "markdown",
      "metadata": {
        "id": "4PUUYYZnXjWe"
      },
      "source": [
        "# **Aplicación: los datos del Titanic** (para clase de lunes)"
      ]
    },
    {
      "cell_type": "code",
      "execution_count": 17,
      "metadata": {
        "colab": {
          "base_uri": "https://localhost:8080/"
        },
        "id": "YmMHb5XX4xjy",
        "outputId": "e0519519-83b8-4cd7-c07c-23f61b67f3db",
        "vscode": {
          "languageId": "r"
        }
      },
      "outputs": [
        {
          "name": "stderr",
          "output_type": "stream",
          "text": [
            "\n",
            "Adjuntando el paquete: 'Hmisc'\n",
            "\n",
            "\n",
            "The following objects are masked from 'package:base':\n",
            "\n",
            "    format.pval, units\n",
            "\n",
            "\n"
          ]
        }
      ],
      "source": [
        "library(Hmisc)"
      ]
    },
    {
      "cell_type": "code",
      "execution_count": 18,
      "metadata": {
        "id": "rBE16PPW5P2h",
        "vscode": {
          "languageId": "r"
        }
      },
      "outputs": [],
      "source": [
        "load('./titanic3.sav')"
      ]
    },
    {
      "cell_type": "code",
      "execution_count": 19,
      "metadata": {
        "id": "awx0Fpbg0cbV",
        "vscode": {
          "languageId": "r"
        }
      },
      "outputs": [],
      "source": [
        "attach(titanic3)"
      ]
    },
    {
      "cell_type": "code",
      "execution_count": 20,
      "metadata": {
        "colab": {
          "base_uri": "https://localhost:8080/",
          "height": 1000
        },
        "id": "m0BJU2HX5VRx",
        "outputId": "02ebb76b-0884-4848-9eeb-104c44ca8ffc",
        "vscode": {
          "languageId": "r"
        }
      },
      "outputs": [
        {
          "data": {
            "text/plain": [
              "titanic3 \n",
              "\n",
              " 14  Variables      1309  Observations\n",
              "--------------------------------------------------------------------------------\n",
              "pclass \n",
              "       n  missing distinct \n",
              "    1309        0        3 \n",
              "                            \n",
              "Value        1st   2nd   3rd\n",
              "Frequency    323   277   709\n",
              "Proportion 0.247 0.212 0.542\n",
              "--------------------------------------------------------------------------------\n",
              "survived : Survived \n",
              "       n  missing distinct     Info      Sum     Mean \n",
              "    1309        0        2    0.708      500    0.382 \n",
              "\n",
              "--------------------------------------------------------------------------------\n",
              "name : Name \n",
              "       n  missing distinct \n",
              "    1309        0     1307 \n",
              "\n",
              "lowest : Abbing, Mr. Anthony             Abbott, Master. Eugene Joseph   Abbott, Mr. Rossmore Edward     Abbott, Mrs. Stanton (Rosa Hunt Abelseth, Miss. Karen Marie    \n",
              "highest: Zabour, Miss. Hileni            Zabour, Miss. Thamine           Zakarian, Mr. Mapriededer       Zakarian, Mr. Ortin             Zimmerman, Mr. Leo             \n",
              "--------------------------------------------------------------------------------\n",
              "sex \n",
              "       n  missing distinct \n",
              "    1309        0        2 \n",
              "                        \n",
              "Value      female   male\n",
              "Frequency     466    843\n",
              "Proportion  0.356  0.644\n",
              "--------------------------------------------------------------------------------\n",
              "age : Age [Year] \n",
              "       n  missing distinct     Info     Mean  pMedian      Gmd      .05 \n",
              "    1046      263       98    0.999    29.88       29    16.06        5 \n",
              "     .10      .25      .50      .75      .90      .95 \n",
              "      14       21       28       39       50       57 \n",
              "\n",
              "lowest : 0.1667 0.3333 0.4167 0.6667 0.75  , highest: 70.5   71     74     76     80    \n",
              "--------------------------------------------------------------------------------\n",
              "sibsp : Number of Siblings/Spouses Aboard \n",
              "       n  missing distinct     Info     Mean  pMedian      Gmd \n",
              "    1309        0        7     0.67   0.4989      0.5    0.777 \n",
              "                                                    \n",
              "Value          0     1     2     3     4     5     8\n",
              "Frequency    891   319    42    20    22     6     9\n",
              "Proportion 0.681 0.244 0.032 0.015 0.017 0.005 0.007\n",
              "\n",
              "For the frequency table, variable is rounded to the nearest 0\n",
              "--------------------------------------------------------------------------------\n",
              "parch : Number of Parents/Children Aboard \n",
              "       n  missing distinct     Info     Mean  pMedian      Gmd \n",
              "    1309        0        8    0.549    0.385        0   0.6375 \n",
              "                                                          \n",
              "Value          0     1     2     3     4     5     6     9\n",
              "Frequency   1002   170   113     8     6     6     2     2\n",
              "Proportion 0.765 0.130 0.086 0.006 0.005 0.005 0.002 0.002\n",
              "\n",
              "For the frequency table, variable is rounded to the nearest 0\n",
              "--------------------------------------------------------------------------------\n",
              "ticket : Ticket Number \n",
              "       n  missing distinct \n",
              "    1309        0      929 \n",
              "\n",
              "lowest : 110152      110413      110465      110469      110489     \n",
              "highest: W./C. 6608  W./C. 6609  W.E.P. 5734 W/C 14208   WE/P 5735  \n",
              "--------------------------------------------------------------------------------\n",
              "fare : Passenger Fare [British Pound (\\243)] \n",
              "       n  missing distinct     Info     Mean  pMedian      Gmd      .05 \n",
              "    1308        1      281        1     33.3    19.64    38.61    7.225 \n",
              "     .10      .25      .50      .75      .90      .95 \n",
              "   7.567    7.896   14.454   31.275   78.051  133.650 \n",
              "\n",
              "lowest : 0       3.1708  4.0125  5       6.2375 \n",
              "highest: 227.525 247.521 262.375 263     512.329\n",
              "--------------------------------------------------------------------------------\n",
              "cabin \n",
              "       n  missing distinct \n",
              "    1309        0      187 \n",
              "\n",
              "lowest :     A10 A11 A14 A16, highest: F33 F38 F4  G6  T  \n",
              "--------------------------------------------------------------------------------\n",
              "embarked \n",
              "       n  missing distinct \n",
              "    1307        2        3 \n",
              "                                              \n",
              "Value        Cherbourg  Queenstown Southampton\n",
              "Frequency          270         123         914\n",
              "Proportion       0.207       0.094       0.699\n",
              "--------------------------------------------------------------------------------\n",
              "boat \n",
              "       n  missing distinct \n",
              "    1309        0       28 \n",
              "\n",
              "lowest :     1   10  11  12 , highest: A   B   C   C D D  \n",
              "--------------------------------------------------------------------------------\n",
              "body : Body Identification Number \n",
              "       n  missing distinct     Info     Mean  pMedian      Gmd      .05 \n",
              "     121     1188      121        1    160.8      161      113       16 \n",
              "     .10      .25      .50      .75      .90      .95 \n",
              "      35       72      155      256      297      307 \n",
              "\n",
              "lowest :   1   4   7   9  14, highest: 312 314 322 327 328\n",
              "--------------------------------------------------------------------------------\n",
              "home.dest : Home/Destination \n",
              "       n  missing distinct \n",
              "     745      564      368 \n",
              "\n",
              "lowest : ?Havana, Cuba                   Aberdeen / Portland, OR         Albany, NY                      Altdorf, Switzerland            Amenia, ND                     \n",
              "highest: Worcester, England              Worcester, MA                   Yoevil, England / Cottage Grove Youngstown, OH                  Zurich, Switzerland            \n",
              "--------------------------------------------------------------------------------"
            ]
          },
          "metadata": {},
          "output_type": "display_data"
        }
      ],
      "source": [
        "describe(titanic3)"
      ]
    },
    {
      "cell_type": "code",
      "execution_count": 21,
      "metadata": {
        "id": "MuFj6utG5ZZh",
        "vscode": {
          "languageId": "r"
        }
      },
      "outputs": [
        {
          "name": "stderr",
          "output_type": "stream",
          "text": [
            "The following objects are masked from titanic3 (pos = 3):\n",
            "\n",
            "    age, boat, body, cabin, embarked, fare, home.dest, name, parch,\n",
            "    pclass, sex, sibsp, survived, ticket\n",
            "\n",
            "\n"
          ]
        }
      ],
      "source": [
        "attach(titanic3)\n",
        "\n",
        " s<-summary(survived~age+sex+pclass+sibsp+parch,data=titanic3);"
      ]
    },
    {
      "cell_type": "code",
      "execution_count": 22,
      "metadata": {
        "colab": {
          "base_uri": "https://localhost:8080/",
          "height": 437
        },
        "id": "mT2_gkOM54xB",
        "outputId": "26d4627a-01ee-424e-ec6e-f1d341cacb31",
        "vscode": {
          "languageId": "r"
        }
      },
      "outputs": [
        {
          "data": {
            "image/png": "[encoded data removed]",
            "text/plain": [
              "Plot with title \"mean\""
            ]
          },
          "metadata": {
            "image/png": {
              "height": 420,
              "width": 420
            }
          },
          "output_type": "display_data"
        }
      ],
      "source": [
        "plot(s)"
      ]
    },
    {
      "cell_type": "code",
      "execution_count": 23,
      "metadata": {
        "id": "C6GelSg056Jz",
        "vscode": {
          "languageId": "r"
        }
      },
      "outputs": [
        {
          "name": "stderr",
          "output_type": "stream",
          "text": [
            "Warning message in regularize.values(x, y, ties, missing(ties), na.rm = na.rm):\n",
            "\"collapsing to unique 'x' values\"\n",
            "Warning message in regularize.values(x, y, ties, missing(ties), na.rm = na.rm):\n",
            "\"collapsing to unique 'x' values\"\n",
            "Warning message in regularize.values(x, y, ties, missing(ties), na.rm = na.rm):\n",
            "\"collapsing to unique 'x' values\"\n",
            "Warning message in regularize.values(x, y, ties, missing(ties), na.rm = na.rm):\n",
            "\"collapsing to unique 'x' values\"\n",
            "Warning message in regularize.values(x, y, ties, missing(ties), na.rm = na.rm):\n",
            "\"collapsing to unique 'x' values\"\n",
            "Warning message in regularize.values(x, y, ties, missing(ties), na.rm = na.rm):\n",
            "\"collapsing to unique 'x' values\"\n",
            "Warning message in regularize.values(x, y, ties, missing(ties), na.rm = na.rm):\n",
            "\"collapsing to unique 'x' values\"\n",
            "Warning message in regularize.values(x, y, ties, missing(ties), na.rm = na.rm):\n",
            "\"collapsing to unique 'x' values\"\n",
            "Warning message in regularize.values(x, y, ties, missing(ties), na.rm = na.rm):\n",
            "\"collapsing to unique 'x' values\"\n",
            "Warning message in regularize.values(x, y, ties, missing(ties), na.rm = na.rm):\n",
            "\"collapsing to unique 'x' values\"\n",
            "Warning message in regularize.values(x, y, ties, missing(ties), na.rm = na.rm):\n",
            "\"collapsing to unique 'x' values\"\n",
            "Warning message in regularize.values(x, y, ties, missing(ties), na.rm = na.rm):\n",
            "\"collapsing to unique 'x' values\"\n",
            "Warning message in regularize.values(x, y, ties, missing(ties), na.rm = na.rm):\n",
            "\"collapsing to unique 'x' values\"\n",
            "Warning message in regularize.values(x, y, ties, missing(ties), na.rm = na.rm):\n",
            "\"collapsing to unique 'x' values\"\n",
            "Warning message in regularize.values(x, y, ties, missing(ties), na.rm = na.rm):\n",
            "\"collapsing to unique 'x' values\"\n",
            "Warning message in regularize.values(x, y, ties, missing(ties), na.rm = na.rm):\n",
            "\"collapsing to unique 'x' values\"\n",
            "Warning message in regularize.values(x, y, ties, missing(ties), na.rm = na.rm):\n",
            "\"collapsing to unique 'x' values\"\n",
            "Warning message in regularize.values(x, y, ties, missing(ties), na.rm = na.rm):\n",
            "\"collapsing to unique 'x' values\"\n"
          ]
        },
        {
          "data": {
            "image/png": "[encoded data removed]",
            "text/plain": [
              "plot without title"
            ]
          },
          "metadata": {
            "image/png": {
              "height": 420,
              "width": 420
            }
          },
          "output_type": "display_data"
        }
      ],
      "source": [
        "plsmo(age,survived,group=interaction(pclass,sex),datadensity=T)"
      ]
    }
  ],
  "metadata": {
    "colab": {
      "provenance": []
    },
    "kernelspec": {
      "display_name": "R",
      "language": "R",
      "name": "ir"
    },
    "language_info": {
      "codemirror_mode": "r",
      "file_extension": ".r",
      "mimetype": "text/x-r-source",
      "name": "R",
      "pygments_lexer": "r",
      "version": "4.4.3"
    }
  },
  "nbformat": 4,
  "nbformat_minor": 0
}
